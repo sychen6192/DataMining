{
 "cells": [
  {
   "cell_type": "markdown",
   "metadata": {},
   "source": [
    "# 讀入資料 轉成DataFrame"
   ]
  },
  {
   "cell_type": "code",
   "execution_count": 1,
   "metadata": {},
   "outputs": [],
   "source": [
    "import numpy as np\n",
    "import pandas as pd\n",
    "\n",
    "res = [];count = 0\n",
    "with open('data/training_label.txt', 'r' , encoding='utf-8') as fn:\n",
    "    for line in fn:\n",
    "        line=line.strip('\\n')\n",
    "        if line != \"\":\n",
    "            line_list = str(line).split(\"+++$+++\")\n",
    "            line_list[1] = line_list[1].strip()\n",
    "            res.append(line_list)\n",
    "            count += 1\n",
    "            if(count>=10000):\n",
    "                break\n",
    "train = pd.DataFrame(res, columns=[\"sentiment\", \"review\"])\n",
    "\n",
    "res = []\n",
    "with open('data/testing_label.txt', 'r' , encoding='utf-8') as fn:\n",
    "    for line in fn:\n",
    "        line=line.strip('\\n')\n",
    "        if line != \"\":\n",
    "            line_list = str(line).split(\"#####\")\n",
    "            line_list[1] = line_list[1].strip()\n",
    "            res.append(line_list)\n",
    "test = pd.DataFrame(res, columns=[\"sentiment\", \"review\"])"
   ]
  },
  {
   "cell_type": "markdown",
   "metadata": {},
   "source": [
    "# Preprocessing: Data Cleaning"
   ]
  },
  {
   "cell_type": "code",
   "execution_count": 2,
   "metadata": {},
   "outputs": [],
   "source": [
    "import re\n",
    "from bs4 import BeautifulSoup\n",
    "\n",
    "def preprocessor(text):\n",
    "    # remove HTML tags\n",
    "    text = BeautifulSoup(text, 'html.parser').get_text()\n",
    "    \n",
    "    # regex for matching emoticons, keep emoticons, ex: :), :-P, :-D\n",
    "    r = '(?::|;|=|X)(?:-)?(?:\\)|\\(|D|P)'\n",
    "    emoticons = re.findall(r, text)\n",
    "    text = re.sub(r, '', text)\n",
    "    \n",
    "    # convert to lowercase and append all emoticons behind (with space in between)\n",
    "    # replace('-','') removes nose of emoticons\n",
    "    text = re.sub('[\\W]+', ' ', text.lower()) + ' ' + ' '.join(emoticons).replace('-','')\n",
    "    return text"
   ]
  },
  {
   "cell_type": "markdown",
   "metadata": {},
   "source": [
    "# Preprocessing: Word Stemming"
   ]
  },
  {
   "cell_type": "markdown",
   "metadata": {},
   "source": [
    "### Download stop words"
   ]
  },
  {
   "cell_type": "code",
   "execution_count": 3,
   "metadata": {
    "scrolled": true
   },
   "outputs": [
    {
     "name": "stderr",
     "output_type": "stream",
     "text": [
      "[nltk_data] Downloading package stopwords to\n",
      "[nltk_data]     C:\\Users\\sychen\\AppData\\Roaming\\nltk_data...\n",
      "[nltk_data]   Package stopwords is already up-to-date!\n"
     ]
    }
   ],
   "source": [
    "import nltk\n",
    "from nltk.corpus import stopwords\n",
    "nltk.download('stopwords')\n",
    "stop = stopwords.words('english')"
   ]
  },
  {
   "cell_type": "markdown",
   "metadata": {},
   "source": [
    "### PorterStemmer & StopWord "
   ]
  },
  {
   "cell_type": "code",
   "execution_count": 4,
   "metadata": {},
   "outputs": [],
   "source": [
    "from nltk.stem.porter import PorterStemmer\n",
    "import re\n",
    "\n",
    "def tokenizer_stem(text):\n",
    "    porter = PorterStemmer()\n",
    "    return [porter.stem(word) for word in re.split('\\s+', text.strip()) \\\n",
    "           if word not in stop and re.match('[a-zA-Z]+', text)] # re.match只比對字串頭"
   ]
  },
  {
   "cell_type": "markdown",
   "metadata": {},
   "source": [
    "### CountVectorizer"
   ]
  },
  {
   "cell_type": "code",
   "execution_count": 10,
   "metadata": {},
   "outputs": [
    {
     "name": "stdout",
     "output_type": "stream",
     "text": [
      "[Top 10 frequent vocabularies]\n",
      "go: 888\n",
      "day: 694\n",
      "get: 673\n",
      "good: 563\n",
      "like: 525\n",
      "work: 524\n",
      "love: 473\n",
      "today: 416\n",
      "time: 409\n",
      "got: 377\n"
     ]
    }
   ],
   "source": [
    "import numpy as np\n",
    "import scipy as sp\n",
    "from sklearn.feature_extraction.text import CountVectorizer\n",
    "\n",
    "doc = train['review']\n",
    "count = CountVectorizer(preprocessor=preprocessor, tokenizer=tokenizer_stem)\n",
    "doc_bag = count.fit_transform(doc).toarray() # every data features\n",
    "\n",
    "print(\"[Top 10 frequent vocabularies]\")\n",
    "bag_cnts = np.sum(doc_bag, axis=0) # every word cols sum\n",
    "top = 10\n",
    "# [::-1] reverses a list since sort is in ascending order\n",
    "# argsort() return sorting index\n",
    "for tok, v in zip(count.inverse_transform(np.ones(bag_cnts.shape[0]))[0][bag_cnts.argsort()[::-1][:top]], np.sort(bag_cnts)[::-1][:top]):\n",
    "    print('{}: {}'.format(tok, v))"
   ]
  },
  {
   "cell_type": "markdown",
   "metadata": {},
   "source": [
    "### TfidfVectorizer"
   ]
  },
  {
   "cell_type": "code",
   "execution_count": 7,
   "metadata": {},
   "outputs": [
    {
     "data": {
      "text/plain": [
       "TfidfVectorizer(analyzer='word', binary=False, decode_error='strict',\n",
       "                dtype=<class 'numpy.float64'>, encoding='utf-8',\n",
       "                input='content', lowercase=True, max_df=1.0, max_features=None,\n",
       "                min_df=1, ngram_range=(1, 1), norm='l2',\n",
       "                preprocessor=<function preprocessor at 0x000001A84105B1F8>,\n",
       "                smooth_idf=True, stop_words=None, strip_accents=None,\n",
       "                sublinear_tf=False, token_pattern='(?u)\\\\b\\\\w\\\\w+\\\\b',\n",
       "                tokenizer=<function tokenizer_stem at 0x000001A84105D438>,\n",
       "                use_idf=True, vocabulary=None)"
      ]
     },
     "execution_count": 7,
     "metadata": {},
     "output_type": "execute_result"
    }
   ],
   "source": [
    "from sklearn.feature_extraction.text import TfidfVectorizer\n",
    "tfidf = TfidfVectorizer(preprocessor=preprocessor, tokenizer=tokenizer_stem)\n",
    "tfidf.fit(doc)"
   ]
  },
  {
   "cell_type": "code",
   "execution_count": 8,
   "metadata": {},
   "outputs": [
    {
     "name": "stdout",
     "output_type": "stream",
     "text": [
      "[vocabularies with smallest idf scores]\n",
      "go: 3.50\n",
      "day: 3.73\n",
      "get: 3.74\n",
      "good: 3.93\n",
      "like: 3.99\n",
      "work: 3.99\n",
      "love: 4.10\n",
      "today: 4.20\n",
      "time: 4.23\n",
      "got: 4.31\n",
      "\n",
      "[vocabularies with highest tf-idf scores]\n",
      "go: 179.10279988457074\n",
      "day: 151.08781892770222\n",
      "good: 138.6903080125953\n",
      "get: 138.1621310915521\n",
      "work: 129.54552700764043\n",
      "like: 116.77930507771569\n",
      "love: 113.93756783042048\n",
      "thank: 111.53964229158474\n",
      "today: 101.06503421485407\n",
      "miss: 98.71972928650575\n"
     ]
    }
   ],
   "source": [
    "top = 10\n",
    "# get idf score of vocabularies\n",
    "idf = tfidf.idf_\n",
    "print('[vocabularies with smallest idf scores]')\n",
    "sorted_idx = idf.argsort()\n",
    "\n",
    "for i in range(top):\n",
    "    # tfidf.get_feature_names sort 過後的feature: idf值\n",
    "    print('%s: %.2f' %(tfidf.get_feature_names()[sorted_idx[i]], idf[sorted_idx[i]]))\n",
    "\n",
    "doc_tfidf = tfidf.transform(doc).toarray()\n",
    "tfidf_sum = np.sum(doc_tfidf, axis=0)\n",
    "print(\"\\n[vocabularies with highest tf-idf scores]\")\n",
    "for tok, v in zip(tfidf.inverse_transform(np.ones(tfidf_sum.shape[0]))[0][tfidf_sum.argsort()[::-1]][:top], \\\n",
    "                        np.sort(tfidf_sum)[::-1][:top]):\n",
    "    print('{}: {}'.format(tok, v))"
   ]
  },
  {
   "cell_type": "markdown",
   "metadata": {},
   "source": [
    "# Feature Hashing"
   ]
  },
  {
   "cell_type": "code",
   "execution_count": 9,
   "metadata": {},
   "outputs": [
    {
     "name": "stdout",
     "output_type": "stream",
     "text": [
      "(10000, 1024)\n"
     ]
    }
   ],
   "source": [
    "from sklearn.feature_extraction.text import HashingVectorizer\n",
    "\n",
    "hashvec = HashingVectorizer(n_features=2**10,\n",
    "                            preprocessor=preprocessor,\n",
    "                            tokenizer=tokenizer_stem)\n",
    "\n",
    "doc_hash = hashvec.transform(doc)\n",
    "print(doc_hash.shape)"
   ]
  },
  {
   "cell_type": "markdown",
   "metadata": {},
   "source": [
    "# Pipeline"
   ]
  },
  {
   "cell_type": "code",
   "execution_count": 10,
   "metadata": {},
   "outputs": [],
   "source": [
    "from sklearn.pipeline import Pipeline\n",
    "from sklearn.ensemble import AdaBoostClassifier\n",
    "from sklearn.datasets import make_classification\n",
    "from sklearn.model_selection import cross_val_score\n",
    "from xgboost import XGBClassifier\n",
    "\n",
    "names = ['AdaBoostClassifier+preprocess+hash', 'AdaBoostClassifier+preprocess', 'XGBClassifier+preprocess+hash', 'XGBClassifier+preprocess']\n",
    "pipe1 = Pipeline([('vect', HashingVectorizer(n_features=2**10,\n",
    "                                             preprocessor=preprocessor, \n",
    "                                             tokenizer=tokenizer_stem)), \n",
    "                  ('clf', AdaBoostClassifier(algorithm='SAMME.R', base_estimator=None,\n",
    "        learning_rate=1.0, n_estimators=50, random_state=0))])\n",
    "\n",
    "pipe2 = Pipeline([('vect', TfidfVectorizer(preprocessor=preprocessor, \n",
    "                                           tokenizer=tokenizer_stem)), \n",
    "                  ('clf', AdaBoostClassifier(algorithm='SAMME.R', base_estimator=None,\n",
    "        learning_rate=1.0, n_estimators=50, random_state=0))])\n",
    "\n",
    "pipe3 = Pipeline([('vect', HashingVectorizer(n_features=2**10,\n",
    "                                             preprocessor=preprocessor, \n",
    "                                             tokenizer=tokenizer_stem)), \n",
    "                  ('clf', XGBClassifier(n_estimators=50, random_state=0))])\n",
    "\n",
    "pipe4 = Pipeline([('vect', TfidfVectorizer(preprocessor=preprocessor, \n",
    "                                           tokenizer=tokenizer_stem)), \n",
    "                  ('clf', XGBClassifier(n_estimators=50, random_state=0))])"
   ]
  },
  {
   "cell_type": "markdown",
   "metadata": {},
   "source": [
    "# CrossValidation"
   ]
  },
  {
   "cell_type": "code",
   "execution_count": 11,
   "metadata": {},
   "outputs": [
    {
     "name": "stdout",
     "output_type": "stream",
     "text": [
      "[auc (10-fold cv)]\n",
      "AdaBoostClassifier+preprocess+hash: 0.710 (+/-0.014)\n",
      "AdaBoostClassifier+preprocess: 0.724 (+/-0.014)\n",
      "XGBClassifier+preprocess+hash: 0.704 (+/-0.014)\n",
      "XGBClassifier+preprocess: 0.710 (+/-0.018)\n"
     ]
    }
   ],
   "source": [
    "print('[auc (10-fold cv)]')\n",
    "for name, clf in zip(names, [pipe1, pipe2, pipe3, pipe4]):\n",
    "    scores = cross_val_score(estimator=clf, X=train['review'], y=train['sentiment'], \\\n",
    "                         cv=10, scoring='roc_auc')\n",
    "    print('%s: %.3f (+/-%.3f)' % (name, scores.mean(), scores.std()))"
   ]
  },
  {
   "cell_type": "markdown",
   "metadata": {},
   "source": [
    "# Result"
   ]
  },
  {
   "cell_type": "code",
   "execution_count": 22,
   "metadata": {},
   "outputs": [],
   "source": [
    "from sklearn.metrics import accuracy_score, f1_score\n",
    "from sklearn.metrics import confusion_matrix\n",
    "from mlxtend.plotting import plot_confusion_matrix\n",
    "import matplotlib.pyplot as plt\n",
    "\n",
    "def shen_bing_how_shy(y_pred, y_test):\n",
    "    matrix = confusion_matrix(y_pred, y_test)\n",
    "    precision = matrix[0][0] / (matrix[1][0] + matrix[0][0])\n",
    "    recall = matrix[0][0] / (matrix[0][1] + matrix[0][0])\n",
    "    print(\"Accuracy : %.3f\"%(accuracy_score(y_test, y_pred)))\n",
    "    print(\"F1_Score : %.3f\"%(f1_score(y_test, y_pred)))\n",
    "    print(\"Precision : %.3f\"%(precision))\n",
    "    print(\"Recall : %.3f\"%(recall))\n",
    "    fig, ax = plot_confusion_matrix(conf_mat=matrix)\n",
    "    plt.show()\n",
    "#     print('I love shen_bing')"
   ]
  },
  {
   "cell_type": "markdown",
   "metadata": {},
   "source": [
    "### AdaBoostClassifier+preprocess+hash"
   ]
  },
  {
   "cell_type": "code",
   "execution_count": 23,
   "metadata": {},
   "outputs": [
    {
     "name": "stdout",
     "output_type": "stream",
     "text": [
      "Accuracy : 0.644\n",
      "F1_Score : 0.714\n",
      "Precision : 0.486\n",
      "Recall : 0.581\n"
     ]
    },
    {
     "data": {
      "image/png": "[encoded data removed]",
      "text/plain": [
       "<Figure size 432x288 with 1 Axes>"
      ]
     },
     "metadata": {
      "needs_background": "light"
     },
     "output_type": "display_data"
    }
   ],
   "source": [
    "pipe1.fit(X=train['review'], y=train['sentiment'])\n",
    "y_pred = pipe1.predict(test['review']).astype('int64')\n",
    "y_test = test['sentiment'].values.astype('int64')\n",
    "matrix = confusion_matrix(y_pred, y_test)\n",
    "shen_bing_how_shy(y_pred, y_test)"
   ]
  },
  {
   "cell_type": "markdown",
   "metadata": {},
   "source": [
    "### AdaBoostClassifier+preprocess"
   ]
  },
  {
   "cell_type": "code",
   "execution_count": 24,
   "metadata": {},
   "outputs": [
    {
     "name": "stdout",
     "output_type": "stream",
     "text": [
      "Accuracy : 0.644\n",
      "F1_Score : 0.724\n",
      "Precision : 0.432\n",
      "Recall : 0.593\n"
     ]
    },
    {
     "data": {
      "image/png": "[encoded data removed]",
      "text/plain": [
       "<Figure size 432x288 with 1 Axes>"
      ]
     },
     "metadata": {
      "needs_background": "light"
     },
     "output_type": "display_data"
    }
   ],
   "source": [
    "pipe2.fit(X=train['review'], y=train['sentiment'])\n",
    "y_pred = pipe2.predict(test['review']).astype('int64')\n",
    "y_test = test['sentiment'].values.astype('int64')\n",
    "shen_bing_how_shy(y_pred, y_test)"
   ]
  },
  {
   "cell_type": "markdown",
   "metadata": {},
   "source": [
    "### XGBClassifier+preprocess+hash"
   ]
  },
  {
   "cell_type": "code",
   "execution_count": 25,
   "metadata": {},
   "outputs": [
    {
     "name": "stdout",
     "output_type": "stream",
     "text": [
      "Accuracy : 0.622\n",
      "F1_Score : 0.691\n",
      "Precision : 0.486\n",
      "Recall : 0.545\n"
     ]
    },
    {
     "data": {
      "image/png": "[encoded data removed]",
      "text/plain": [
       "<Figure size 432x288 with 1 Axes>"
      ]
     },
     "metadata": {
      "needs_background": "light"
     },
     "output_type": "display_data"
    }
   ],
   "source": [
    "pipe3.fit(X=train['review'], y=train['sentiment'])\n",
    "y_pred = pipe3.predict(test['review']).astype('int64')\n",
    "y_test = test['sentiment'].values.astype('int64')\n",
    "shen_bing_how_shy(y_pred, y_test)"
   ]
  },
  {
   "cell_type": "markdown",
   "metadata": {},
   "source": [
    "### XGBClassifier+preprocess"
   ]
  },
  {
   "cell_type": "code",
   "execution_count": 26,
   "metadata": {},
   "outputs": [
    {
     "name": "stdout",
     "output_type": "stream",
     "text": [
      "[XGBClassifier+preprocess]\n",
      "Accuracy : 0.622\n",
      "F1_Score : 0.691\n",
      "Precision : 0.486\n",
      "Recall : 0.545\n"
     ]
    },
    {
     "data": {
      "image/png": "[encoded data removed]",
      "text/plain": [
       "<Figure size 432x288 with 1 Axes>"
      ]
     },
     "metadata": {
      "needs_background": "light"
     },
     "output_type": "display_data"
    }
   ],
   "source": [
    "pipe4.fit(X=train['review'], y=train['sentiment'])\n",
    "y_pred = pipe3.predict(test['review']).astype('int64')\n",
    "y_test = test['sentiment'].values.astype('int64')\n",
    "shen_bing_how_shy(y_pred, y_test)"
   ]
  }
 ],
 "metadata": {
  "kernelspec": {
   "display_name": "Python 3",
   "language": "python",
   "name": "python3"
  },
  "language_info": {
   "codemirror_mode": {
    "name": "ipython",
    "version": 3
   },
   "file_extension": ".py",
   "mimetype": "text/x-python",
   "name": "python",
   "nbconvert_exporter": "python",
   "pygments_lexer": "ipython3",
   "version": "3.7.5"
  }
 },
 "nbformat": 4,
 "nbformat_minor": 2
}
